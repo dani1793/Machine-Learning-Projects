{
  "cells": [
    {
      "metadata": {
        "_cell_guid": "e81ee64d-e474-4662-9036-ce23df615199",
        "_uuid": "b6269c0e8f417f82daf093dda8fa0da6d2c57d86"
      },
      "cell_type": "markdown",
      "source": "# Introduction\n**This will be your workspace for Kaggle's Machine Learning education track.**\n\nYou will build and continually improve a model to predict housing prices as you work through each tutorial.  Fork this notebook and write your code in it.\n\nThe data from the tutorial, the Melbourne data, is not available in this workspace.  You will need to translate the concepts to work with the data in this notebook, the Iowa data.\n\nCome to the [Learn Discussion](https://www.kaggle.com/learn-forum) forum for any questions or comments. \n\n# Write Your Code Below\n\n"
    },
    {
      "metadata": {
        "_cell_guid": "005ffe8d-206e-4db4-983c-998c946edb61",
        "_uuid": "339f073be41400a1db250ad0e171ee4a2429389c"
      },
      "cell_type": "markdown",
      "source": "# Basic Panda Commands"
    },
    {
      "metadata": {
        "_cell_guid": "86b26423-563a-4fa1-a595-89e25ff93089",
        "_uuid": "1c728098629e1301643443b1341556a15c089b2b",
        "trusted": false,
        "collapsed": true
      },
      "cell_type": "code",
      "source": "import pandas as pd\n\nmain_file_path = '../input/train.csv'\ndata = pd.read_csv(main_file_path)\nprint('hello world')",
      "execution_count": null,
      "outputs": []
    },
    {
      "metadata": {
        "_cell_guid": "8c14ddaa-5535-4717-9e35-2c5103881147",
        "_uuid": "c713f87860d7a1bc72363841c0a09f913ba79eb2",
        "trusted": false,
        "collapsed": true
      },
      "cell_type": "code",
      "source": "print(data.describe())",
      "execution_count": null,
      "outputs": []
    },
    {
      "metadata": {
        "_cell_guid": "1078d606-41b5-4c9b-a75b-b8c22f61f5d7",
        "_uuid": "15a7d14e6d09fb02d77fb75918d56de382285c30",
        "trusted": false,
        "collapsed": true
      },
      "cell_type": "code",
      "source": "print(data.columns)",
      "execution_count": null,
      "outputs": []
    },
    {
      "metadata": {
        "_cell_guid": "0f1c1a6f-424c-4a41-8bd3-4c71f08316bb",
        "_uuid": "d930b20c97707a8e213130418c533ebd11209457",
        "trusted": false,
        "collapsed": true
      },
      "cell_type": "code",
      "source": "sale = data.SalePrice\nprint(sale.head())",
      "execution_count": null,
      "outputs": []
    },
    {
      "metadata": {
        "_cell_guid": "85907098-8e79-47f8-a347-8bdf05d4f15a",
        "_uuid": "61d61868faec8e76ca749c033af15bfcdd9a0baf",
        "trusted": false,
        "collapsed": true
      },
      "cell_type": "code",
      "source": "selectedColomnsNames = ['MiscVal','YrSold'];\nsubDataFrame = data[selectedColomnsNames];\nprint(subDataFrame.describe())",
      "execution_count": null,
      "outputs": []
    },
    {
      "metadata": {
        "_cell_guid": "407d9124-1b78-4425-bbbd-6601cad6a5d2",
        "_uuid": "142f7dd3f0a09f60f22173db118645f2ee26ed11"
      },
      "cell_type": "markdown",
      "source": "# Initial Model"
    },
    {
      "metadata": {
        "_cell_guid": "9878c9ca-7a89-4db6-842c-f382993a0d5e",
        "_uuid": "5b315a51f3d44be761fb6394e8933b05cc50060f",
        "trusted": false,
        "collapsed": true
      },
      "cell_type": "code",
      "source": "y = data.SalePrice\ncolomnNames = ['LotArea', 'YearBuilt', '1stFlrSF', '2ndFlrSF', 'FullBath', 'BedroomAbvGr', 'TotRmsAbvGrd'];\nX = data[colomnNames]",
      "execution_count": null,
      "outputs": []
    },
    {
      "metadata": {
        "_cell_guid": "94548a23-64c6-42f9-81c5-3305df4860a9",
        "_uuid": "e90d4694efef9087382d75fb7ce858a05a4477dc",
        "trusted": false,
        "collapsed": true
      },
      "cell_type": "code",
      "source": "from sklearn.tree import DecisionTreeRegressor\n\n# Define model\nmelbourne_model = DecisionTreeRegressor()\n\n# Fit model\nmelbourne_model.fit(X, y)",
      "execution_count": null,
      "outputs": []
    },
    {
      "metadata": {
        "_cell_guid": "801fb976-e352-4fe9-99ff-6497f268e619",
        "_uuid": "06c186d230751291a46884a2a0eae4c781f8940f",
        "trusted": false,
        "collapsed": true
      },
      "cell_type": "code",
      "source": "print(\"Making predictions for the following 5 houses:\")\nprint(X.head())\nprint(\"The predictions are\")\nprint(melbourne_model.predict(X.head()))",
      "execution_count": null,
      "outputs": []
    },
    {
      "metadata": {
        "_cell_guid": "702466fe-363f-4011-9e10-42659ebec315",
        "_uuid": "400477da4257437a29e3557f4437976e5cccd97a"
      },
      "cell_type": "markdown",
      "source": "# Simple Validation Split"
    },
    {
      "metadata": {
        "_cell_guid": "278c49b7-d28d-4db2-b4df-47ad3b40b31f",
        "_uuid": "b1f5fdaca7a1dc6419af307820ca9e71326b05be",
        "trusted": false,
        "collapsed": true
      },
      "cell_type": "code",
      "source": "from sklearn.model_selection import train_test_split\nfrom sklearn.metrics import mean_absolute_error\n# split data into training and validation data, for both predictors and target\n# The split is based on a random number generator. Supplying a numeric value to\n# the random_state argument guarantees we get the same split every time we\n# run this script.\ntrain_X, val_X, train_y, val_y = train_test_split(X, y,random_state = 0)\n# Define model\nmelbourne_model = DecisionTreeRegressor()\n# Fit model\nmelbourne_model.fit(train_X, train_y)\n\n# get predicted prices on validation data\nval_predictions = melbourne_model.predict(val_X)\nprint(mean_absolute_error(val_y, val_predictions))",
      "execution_count": null,
      "outputs": []
    },
    {
      "metadata": {
        "_cell_guid": "ec24ced1-8124-40cf-ae1c-0b93315d5ef3",
        "_uuid": "54c71d17577476d91b234d51e0134c3364d90152",
        "collapsed": true,
        "trusted": false
      },
      "cell_type": "code",
      "source": "def get_mae(max_leaf_nodes, predictors_train, predictors_val, targ_train, targ_val):\n    model = DecisionTreeRegressor(max_leaf_nodes=max_leaf_nodes, random_state=0)\n    model.fit(predictors_train, targ_train)\n    preds_val = model.predict(predictors_val)\n    mae = mean_absolute_error(targ_val, preds_val)\n    return(mae)",
      "execution_count": null,
      "outputs": []
    },
    {
      "metadata": {
        "_cell_guid": "a279f6d8-04b5-477e-adcd-0ac55f5c9d43",
        "_uuid": "7487954ec818d05806a5c3b51798e2c7a97d3c7e",
        "scrolled": true,
        "trusted": false,
        "collapsed": true
      },
      "cell_type": "code",
      "source": "for max_leaf_nodes in [5, 10, 20, 50, 75, 80, 90, 100, 250, 500, 1000, 2500, 5000]:\n    my_mae = get_mae(max_leaf_nodes, train_X, val_X, train_y, val_y)\n    print(\"Max leaf nodes: %d  \\t\\t Mean Absolute Error:  %d\" %(max_leaf_nodes, my_mae))",
      "execution_count": null,
      "outputs": []
    },
    {
      "metadata": {
        "_cell_guid": "cf6f6a41-40b4-4465-8fd9-34db838e8d3f",
        "_uuid": "ee8d468308de3845462de89e4891dd6f558d8910"
      },
      "cell_type": "markdown",
      "source": "## Optimal size of leaf node is 80"
    },
    {
      "metadata": {
        "_cell_guid": "e443c805-10af-4b94-9a98-3125946398f6",
        "_uuid": "f87825c54bb3a0d4929a5abd12c3e76167eaf0ca"
      },
      "cell_type": "markdown",
      "source": "# Random Forest"
    },
    {
      "metadata": {
        "_cell_guid": "fddf7410-e59a-48cc-bb87-c4b9a95eb253",
        "_uuid": "a898a069c5dc2c398006db15a2ad26ebffb18eed",
        "trusted": false,
        "collapsed": true
      },
      "cell_type": "code",
      "source": "from sklearn.ensemble import RandomForestRegressor\nfrom sklearn.metrics import mean_absolute_error\n\nforest_model = RandomForestRegressor()\nforest_model.fit(train_X, train_y)\nmelb_preds = forest_model.predict(val_X)\nprint(mean_absolute_error(val_y, melb_preds))",
      "execution_count": null,
      "outputs": []
    },
    {
      "metadata": {
        "_cell_guid": "4ab8c806-2517-46f8-af30-b57d3afb7bc5",
        "_uuid": "67c24c27b858ac94519eba143d5eb6960683199f"
      },
      "cell_type": "markdown",
      "source": "# Test Data"
    },
    {
      "metadata": {
        "_cell_guid": "10dcda1c-916e-4fc6-9d07-7ab39277f2c4",
        "_uuid": "3fc7ebdf88d257afc030d07c77755d75be95fe62",
        "trusted": false,
        "collapsed": true
      },
      "cell_type": "code",
      "source": "# Read the test data\ntest = pd.read_csv('../input/test.csv')\n# Treat the test data in the same way as training data. In this case, pull same columns.\ntest_X = test[colomnNames]\n# Use the model to make predictions\npredicted_prices = forest_model.predict(test_X)\n# We will look at the predicted prices to ensure we have something sensible.\n#print(predicted_prices)",
      "execution_count": null,
      "outputs": []
    },
    {
      "metadata": {
        "_cell_guid": "7cd7c241-6151-49f7-a8d6-d9643022b572",
        "_uuid": "c06d4cfbd016b709a72c6fcfda83a4cfb6ec7141",
        "collapsed": true,
        "trusted": false
      },
      "cell_type": "code",
      "source": "my_submission = pd.DataFrame({'Id': test.Id, 'SalePrice': predicted_prices})\n# you could use any filename. We choose submission here\nmy_submission.to_csv('submission.csv', index=False)",
      "execution_count": null,
      "outputs": []
    }
  ],
  "metadata": {
    "kernelspec": {
      "display_name": "Python 3",
      "language": "python",
      "name": "python3"
    },
    "language_info": {
      "nbconvert_exporter": "python",
      "mimetype": "text/x-python",
      "file_extension": ".py",
      "codemirror_mode": {
        "name": "ipython",
        "version": 3
      },
      "version": "3.6.5",
      "name": "python",
      "pygments_lexer": "ipython3"
    }
  },
  "nbformat": 4,
  "nbformat_minor": 1
}