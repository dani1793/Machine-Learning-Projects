{
  "cells": [
    {
      "metadata": {
        "_uuid": "b6269c0e8f417f82daf093dda8fa0da6d2c57d86",
        "_cell_guid": "e81ee64d-e474-4662-9036-ce23df615199"
      },
      "cell_type": "markdown",
      "source": "# Introduction\n**This will be your workspace for Kaggle's Machine Learning education track.**\n\nYou will build and continually improve a model to predict housing prices as you work through each tutorial.  Fork this notebook and write your code in it.\n\nThe data from the tutorial, the Melbourne data, is not available in this workspace.  You will need to translate the concepts to work with the data in this notebook, the Iowa data.\n\nCome to the [Learn Discussion](https://www.kaggle.com/learn-forum) forum for any questions or comments. \n\n# Write Your Code Below\n\n"
    },
    {
      "metadata": {
        "_uuid": "566ae51b82b90e410ebc1798596ffe3caace31e9",
        "_cell_guid": "30fa1d20-7fb4-4dc6-b792-d9f4bef3ab06"
      },
      "cell_type": "markdown",
      "source": "# Basic Panda Commands"
    },
    {
      "metadata": {
        "_uuid": "1c728098629e1301643443b1341556a15c089b2b",
        "_cell_guid": "86b26423-563a-4fa1-a595-89e25ff93089",
        "trusted": true
      },
      "cell_type": "code",
      "source": "import pandas as pd\n\nmain_file_path = '../input/train.csv'\ndata = pd.read_csv(main_file_path)\nprint('hello world')",
      "execution_count": 39,
      "outputs": [
        {
          "output_type": "stream",
          "text": "hello world\n",
          "name": "stdout"
        }
      ]
    },
    {
      "metadata": {
        "_uuid": "7be6b069381a613ca7c649a1444fe3b4553914c4",
        "_cell_guid": "d5369be2-98aa-474a-8873-758730045740",
        "trusted": true
      },
      "cell_type": "code",
      "source": "print(data.describe())",
      "execution_count": 40,
      "outputs": [
        {
          "output_type": "stream",
          "text": "                Id   MSSubClass  LotFrontage        LotArea  OverallQual  \\\ncount  1460.000000  1460.000000  1201.000000    1460.000000  1460.000000   \nmean    730.500000    56.897260    70.049958   10516.828082     6.099315   \nstd     421.610009    42.300571    24.284752    9981.264932     1.382997   \nmin       1.000000    20.000000    21.000000    1300.000000     1.000000   \n25%     365.750000    20.000000    59.000000    7553.500000     5.000000   \n50%     730.500000    50.000000    69.000000    9478.500000     6.000000   \n75%    1095.250000    70.000000    80.000000   11601.500000     7.000000   \nmax    1460.000000   190.000000   313.000000  215245.000000    10.000000   \n\n       OverallCond    YearBuilt  YearRemodAdd   MasVnrArea   BsmtFinSF1  \\\ncount  1460.000000  1460.000000   1460.000000  1452.000000  1460.000000   \nmean      5.575342  1971.267808   1984.865753   103.685262   443.639726   \nstd       1.112799    30.202904     20.645407   181.066207   456.098091   \nmin       1.000000  1872.000000   1950.000000     0.000000     0.000000   \n25%       5.000000  1954.000000   1967.000000     0.000000     0.000000   \n50%       5.000000  1973.000000   1994.000000     0.000000   383.500000   \n75%       6.000000  2000.000000   2004.000000   166.000000   712.250000   \nmax       9.000000  2010.000000   2010.000000  1600.000000  5644.000000   \n\n           ...         WoodDeckSF  OpenPorchSF  EnclosedPorch    3SsnPorch  \\\ncount      ...        1460.000000  1460.000000    1460.000000  1460.000000   \nmean       ...          94.244521    46.660274      21.954110     3.409589   \nstd        ...         125.338794    66.256028      61.119149    29.317331   \nmin        ...           0.000000     0.000000       0.000000     0.000000   \n25%        ...           0.000000     0.000000       0.000000     0.000000   \n50%        ...           0.000000    25.000000       0.000000     0.000000   \n75%        ...         168.000000    68.000000       0.000000     0.000000   \nmax        ...         857.000000   547.000000     552.000000   508.000000   \n\n       ScreenPorch     PoolArea       MiscVal       MoSold       YrSold  \\\ncount  1460.000000  1460.000000   1460.000000  1460.000000  1460.000000   \nmean     15.060959     2.758904     43.489041     6.321918  2007.815753   \nstd      55.757415    40.177307    496.123024     2.703626     1.328095   \nmin       0.000000     0.000000      0.000000     1.000000  2006.000000   \n25%       0.000000     0.000000      0.000000     5.000000  2007.000000   \n50%       0.000000     0.000000      0.000000     6.000000  2008.000000   \n75%       0.000000     0.000000      0.000000     8.000000  2009.000000   \nmax     480.000000   738.000000  15500.000000    12.000000  2010.000000   \n\n           SalePrice  \ncount    1460.000000  \nmean   180921.195890  \nstd     79442.502883  \nmin     34900.000000  \n25%    129975.000000  \n50%    163000.000000  \n75%    214000.000000  \nmax    755000.000000  \n\n[8 rows x 38 columns]\n",
          "name": "stdout"
        }
      ]
    },
    {
      "metadata": {
        "_uuid": "b5cdc2e096cac3f3f72722a06412b3ec31ef354f",
        "_cell_guid": "01fef6f3-bc68-4942-805c-45ffa21004aa",
        "trusted": true
      },
      "cell_type": "code",
      "source": "print(data.columns)",
      "execution_count": 41,
      "outputs": [
        {
          "output_type": "stream",
          "text": "Index(['Id', 'MSSubClass', 'MSZoning', 'LotFrontage', 'LotArea', 'Street',\n       'Alley', 'LotShape', 'LandContour', 'Utilities', 'LotConfig',\n       'LandSlope', 'Neighborhood', 'Condition1', 'Condition2', 'BldgType',\n       'HouseStyle', 'OverallQual', 'OverallCond', 'YearBuilt', 'YearRemodAdd',\n       'RoofStyle', 'RoofMatl', 'Exterior1st', 'Exterior2nd', 'MasVnrType',\n       'MasVnrArea', 'ExterQual', 'ExterCond', 'Foundation', 'BsmtQual',\n       'BsmtCond', 'BsmtExposure', 'BsmtFinType1', 'BsmtFinSF1',\n       'BsmtFinType2', 'BsmtFinSF2', 'BsmtUnfSF', 'TotalBsmtSF', 'Heating',\n       'HeatingQC', 'CentralAir', 'Electrical', '1stFlrSF', '2ndFlrSF',\n       'LowQualFinSF', 'GrLivArea', 'BsmtFullBath', 'BsmtHalfBath', 'FullBath',\n       'HalfBath', 'BedroomAbvGr', 'KitchenAbvGr', 'KitchenQual',\n       'TotRmsAbvGrd', 'Functional', 'Fireplaces', 'FireplaceQu', 'GarageType',\n       'GarageYrBlt', 'GarageFinish', 'GarageCars', 'GarageArea', 'GarageQual',\n       'GarageCond', 'PavedDrive', 'WoodDeckSF', 'OpenPorchSF',\n       'EnclosedPorch', '3SsnPorch', 'ScreenPorch', 'PoolArea', 'PoolQC',\n       'Fence', 'MiscFeature', 'MiscVal', 'MoSold', 'YrSold', 'SaleType',\n       'SaleCondition', 'SalePrice'],\n      dtype='object')\n",
          "name": "stdout"
        }
      ]
    },
    {
      "metadata": {
        "_uuid": "258e0d346094cf2e1f06f623ce2e90748b95c361",
        "_cell_guid": "3ee9a83f-e0fc-467e-b7ad-052bfc29276c",
        "trusted": true
      },
      "cell_type": "code",
      "source": "sale = data.SalePrice\nprint(sale.head())",
      "execution_count": 42,
      "outputs": [
        {
          "output_type": "stream",
          "text": "0    208500\n1    181500\n2    223500\n3    140000\n4    250000\nName: SalePrice, dtype: int64\n",
          "name": "stdout"
        }
      ]
    },
    {
      "metadata": {
        "_uuid": "8189c1f3869287b3d389a0c6bf4d7025f67a75df",
        "_cell_guid": "b83dc4c6-b4bc-4c2f-ac61-c9a7cac20d2d",
        "trusted": true
      },
      "cell_type": "code",
      "source": "selectedColomnsNames = ['MiscVal','YrSold'];\nsubDataFrame = data[selectedColomnsNames];\nprint(subDataFrame.describe())",
      "execution_count": 43,
      "outputs": [
        {
          "output_type": "stream",
          "text": "            MiscVal       YrSold\ncount   1460.000000  1460.000000\nmean      43.489041  2007.815753\nstd      496.123024     1.328095\nmin        0.000000  2006.000000\n25%        0.000000  2007.000000\n50%        0.000000  2008.000000\n75%        0.000000  2009.000000\nmax    15500.000000  2010.000000\n",
          "name": "stdout"
        }
      ]
    },
    {
      "metadata": {
        "_uuid": "cdb26c4e0300e44dcc5ca03d06d3792e7b0b2816",
        "_cell_guid": "26b13d17-49f8-45a2-98c2-13324a047c13"
      },
      "cell_type": "markdown",
      "source": "# Initial Model"
    },
    {
      "metadata": {
        "_uuid": "3db2ca6ffdd962efe63be25c74c9355c44177cf2",
        "_cell_guid": "86695293-58fa-4255-97bc-2962e1dc62d0",
        "collapsed": true,
        "trusted": true
      },
      "cell_type": "code",
      "source": "y = data.SalePrice\ncolomnNames = ['LotArea', 'YearBuilt', '1stFlrSF', '2ndFlrSF', 'FullBath', 'BedroomAbvGr', 'TotRmsAbvGrd'];\nX = data[colomnNames]",
      "execution_count": 44,
      "outputs": []
    },
    {
      "metadata": {
        "_uuid": "b68cb7cf3a349b17d2467a3bceb5b1dec7e27f93",
        "_cell_guid": "6b3c9856-70c3-4b56-b448-5af561a34cae",
        "trusted": true
      },
      "cell_type": "code",
      "source": "from sklearn.tree import DecisionTreeRegressor\n\n# Define model\nmelbourne_model = DecisionTreeRegressor()\n\n# Fit model\nmelbourne_model.fit(X, y)",
      "execution_count": 45,
      "outputs": [
        {
          "output_type": "execute_result",
          "execution_count": 45,
          "data": {
            "text/plain": "DecisionTreeRegressor(criterion='mse', max_depth=None, max_features=None,\n           max_leaf_nodes=None, min_impurity_decrease=0.0,\n           min_impurity_split=None, min_samples_leaf=1,\n           min_samples_split=2, min_weight_fraction_leaf=0.0,\n           presort=False, random_state=None, splitter='best')"
          },
          "metadata": {}
        }
      ]
    },
    {
      "metadata": {
        "_uuid": "a76c2a9e41ee1b05739cc1a685829fda86b2b6fa",
        "_cell_guid": "3a1cf1f8-9d06-4836-b883-4c6f3b491e3b",
        "trusted": true
      },
      "cell_type": "code",
      "source": "print(\"Making predictions for the following 5 houses:\")\nprint(X.head())\nprint(\"The predictions are\")\nprint(melbourne_model.predict(X.head()))",
      "execution_count": 46,
      "outputs": [
        {
          "output_type": "stream",
          "text": "Making predictions for the following 5 houses:\n   LotArea  YearBuilt  1stFlrSF  2ndFlrSF  FullBath  BedroomAbvGr  \\\n0     8450       2003       856       854         2             3   \n1     9600       1976      1262         0         2             3   \n2    11250       2001       920       866         2             3   \n3     9550       1915       961       756         1             3   \n4    14260       2000      1145      1053         2             4   \n\n   TotRmsAbvGrd  \n0             8  \n1             6  \n2             6  \n3             7  \n4             9  \nThe predictions are\n[208500. 181500. 223500. 140000. 250000.]\n",
          "name": "stdout"
        }
      ]
    },
    {
      "metadata": {
        "_uuid": "dd28eb62c6279bee57225d07f5df30b701e40144",
        "_cell_guid": "725f251c-2a90-4053-88fa-1ce34f490ec0"
      },
      "cell_type": "markdown",
      "source": "# Simple Validation Split"
    },
    {
      "metadata": {
        "_uuid": "4435beb91afd4e4af84fd3fabb54e7b8ae2f9193",
        "_cell_guid": "ec292538-2d92-4e03-959c-48eef8a6353d",
        "trusted": true
      },
      "cell_type": "code",
      "source": "from sklearn.model_selection import train_test_split\nfrom sklearn.metrics import mean_absolute_error\n# split data into training and validation data, for both predictors and target\n# The split is based on a random number generator. Supplying a numeric value to\n# the random_state argument guarantees we get the same split every time we\n# run this script.\ntrain_X, val_X, train_y, val_y = train_test_split(X, y,random_state = 0)\n# Define model\nmelbourne_model = DecisionTreeRegressor()\n# Fit model\nmelbourne_model.fit(train_X, train_y)\n\n# get predicted prices on validation data\nval_predictions = melbourne_model.predict(val_X)\nprint(mean_absolute_error(val_y, val_predictions))",
      "execution_count": 47,
      "outputs": [
        {
          "output_type": "stream",
          "text": "32200.81095890411\n",
          "name": "stdout"
        }
      ]
    },
    {
      "metadata": {
        "_uuid": "1fbf779e55bf1874d2aef5a284df579cc2cb8a05",
        "_cell_guid": "0dc119d7-b222-4091-ace6-53445c4efa35",
        "collapsed": true,
        "trusted": true
      },
      "cell_type": "code",
      "source": "def get_mae(max_leaf_nodes, predictors_train, predictors_val, targ_train, targ_val):\n    model = DecisionTreeRegressor(max_leaf_nodes=max_leaf_nodes, random_state=0)\n    model.fit(predictors_train, targ_train)\n    preds_val = model.predict(predictors_val)\n    mae = mean_absolute_error(targ_val, preds_val)\n    return(mae)",
      "execution_count": 48,
      "outputs": []
    },
    {
      "metadata": {
        "_uuid": "0db6197b4fb7b3fbabf2b241ae8a638b750a6540",
        "_cell_guid": "f6529973-e3d0-4f15-ba57-983c17a0f0fd",
        "scrolled": true,
        "trusted": true
      },
      "cell_type": "code",
      "source": "for max_leaf_nodes in [5, 10, 20, 50, 75, 80, 90, 100, 250, 500, 1000, 2500, 5000]:\n    my_mae = get_mae(max_leaf_nodes, train_X, val_X, train_y, val_y)\n    print(\"Max leaf nodes: %d  \\t\\t Mean Absolute Error:  %d\" %(max_leaf_nodes, my_mae))",
      "execution_count": 49,
      "outputs": [
        {
          "output_type": "stream",
          "text": "Max leaf nodes: 5  \t\t Mean Absolute Error:  35190\nMax leaf nodes: 10  \t\t Mean Absolute Error:  30616\nMax leaf nodes: 20  \t\t Mean Absolute Error:  29206\nMax leaf nodes: 50  \t\t Mean Absolute Error:  27825\nMax leaf nodes: 75  \t\t Mean Absolute Error:  27455\nMax leaf nodes: 80  \t\t Mean Absolute Error:  27280\nMax leaf nodes: 90  \t\t Mean Absolute Error:  28284\nMax leaf nodes: 100  \t\t Mean Absolute Error:  28653\nMax leaf nodes: 250  \t\t Mean Absolute Error:  31738\nMax leaf nodes: 500  \t\t Mean Absolute Error:  32662\nMax leaf nodes: 1000  \t\t Mean Absolute Error:  33385\nMax leaf nodes: 2500  \t\t Mean Absolute Error:  33382\nMax leaf nodes: 5000  \t\t Mean Absolute Error:  33382\n",
          "name": "stdout"
        }
      ]
    },
    {
      "metadata": {
        "_uuid": "abd56b07884377f6ce9b09a0bb88b54a3f66a3c7",
        "_cell_guid": "c0a4b72d-79fe-474c-8cbb-c912ac228aec"
      },
      "cell_type": "markdown",
      "source": "## Optimal size of leaf node is 80"
    },
    {
      "metadata": {
        "_uuid": "c793c1bb70fdc8db2a46ca7a0a595d53d570a43c",
        "_cell_guid": "bf7f80d7-899e-4e0b-8459-ef47b436a2f4"
      },
      "cell_type": "markdown",
      "source": "# Random Forest"
    },
    {
      "metadata": {
        "_uuid": "30f62019e1b86b8e7edebaa1f0c7a1b3635e6d8a",
        "_cell_guid": "0a32e5da-3611-41be-b13a-d288ae936f9e",
        "trusted": true
      },
      "cell_type": "code",
      "source": "from sklearn.ensemble import RandomForestRegressor\nfrom sklearn.metrics import mean_absolute_error\n\nforest_model = RandomForestRegressor()\nforest_model.fit(train_X, train_y)\nmelb_preds = forest_model.predict(val_X)\nprint(mean_absolute_error(val_y, melb_preds))",
      "execution_count": 50,
      "outputs": [
        {
          "output_type": "stream",
          "text": "23662.179386823227\n",
          "name": "stdout"
        }
      ]
    },
    {
      "metadata": {
        "_uuid": "6a5c8e2579916b1fde73d23a38b635ab7e3d0b86",
        "_cell_guid": "c77a393b-e9d1-4b2e-986e-3f7c19338fea"
      },
      "cell_type": "markdown",
      "source": "# Test Data"
    },
    {
      "metadata": {
        "_uuid": "9c01d721173e6cd1b6bc247e0feaaebba4c9117c",
        "_cell_guid": "049bdd09-c659-4db0-9125-93c989c94237",
        "collapsed": true,
        "trusted": true
      },
      "cell_type": "code",
      "source": "# Read the test data\ntest = pd.read_csv('../input/test.csv')\n# Treat the test data in the same way as training data. In this case, pull same columns.\ntest_X = test[colomnNames]\n# Use the model to make predictions\npredicted_prices = forest_model.predict(test_X)\n# We will look at the predicted prices to ensure we have something sensible.\n#print(predicted_prices)",
      "execution_count": 51,
      "outputs": []
    },
    {
      "metadata": {
        "_uuid": "29014adf77044fdc45da2a3291b3d3d46fca47c9",
        "_cell_guid": "535f46d9-42d5-4487-ab1e-5b77e553f06b",
        "collapsed": true,
        "trusted": true
      },
      "cell_type": "code",
      "source": "my_submission = pd.DataFrame({'Id': test.Id, 'SalePrice': predicted_prices})\n# you could use any filename. We choose submission here\nmy_submission.to_csv('submission.csv', index=False)",
      "execution_count": 52,
      "outputs": []
    },
    {
      "metadata": {
        "_uuid": "a3c0083cbe0968029bffce3920fc2c93b74d328a",
        "_cell_guid": "a3e2a322-8dbb-42a8-a33f-df5ceb844e07"
      },
      "cell_type": "markdown",
      "source": "# Handling Missing data"
    },
    {
      "metadata": {
        "_uuid": "d4b98b0870eaf4b5f30fad5132ee0ba48f757bea",
        "_cell_guid": "7c236949-37f8-4952-9049-9c6c08732b97"
      },
      "cell_type": "markdown",
      "source": "## Removing missing colomns from training and test data\n### Not recommended as this would result in bad model creation"
    },
    {
      "metadata": {
        "_uuid": "8185735fd11bd8d6a4e29f2a281488265527b62c",
        "_cell_guid": "4e5520fa-180c-4c2e-a94e-45f39bdd3b01",
        "collapsed": true,
        "trusted": true
      },
      "cell_type": "code",
      "source": "cols_with_missing = [col for col in data.columns \n                                 if data[col].isnull().any()]\nredued_original_data = data.drop(cols_with_missing, axis=1)\nreduced_test_data = test.drop(cols_with_missing, axis=1)",
      "execution_count": 53,
      "outputs": []
    },
    {
      "metadata": {
        "_uuid": "297795e10123dd052b9acb797cd9231d12e59ac2",
        "_cell_guid": "4f452ae3-8a0f-44f6-a199-cef56b4d6244"
      },
      "cell_type": "markdown",
      "source": "## Imputation\n### Taking mean of values"
    },
    {
      "metadata": {
        "_uuid": "2d4e8385c71c4373a2eeeba785227ce0971088f1",
        "_cell_guid": "5669e1bf-dd1c-4a15-8b9a-fdcbbb44813d",
        "collapsed": true,
        "trusted": true
      },
      "cell_type": "code",
      "source": "from sklearn.preprocessing import Imputer\n# need to tranform categorical data into one hot encoding\n#my_imputer = Imputer()\n#data_train_with_imputed_values = my_imputer.fit_transform(data)\ndef score_dataset(X_train, X_test, y_train, y_test): \n    model = RandomForestRegressor() \n    model.fit(X_train, y_train) \n    preds = model.predict(X_test) \n    return mean_absolute_error(y_test, preds)",
      "execution_count": 54,
      "outputs": []
    },
    {
      "metadata": {
        "_uuid": "25e1adf40a7f321ae0db19fdc4d8d00bcfc08488",
        "_cell_guid": "be62a918-697b-4855-abb5-fc1ec58d3d8c",
        "trusted": true
      },
      "cell_type": "code",
      "source": "imputed_X_train_plus = train_X.copy()\nimputed_X_val_plus = val_X.copy()\n\n#for col in cols_with_missing:\n#    imputed_X_train_plus[col + '_was_missing'] = imputed_X_train_plus[col].isnull()\n#    imputed_X_val_plus[col + '_was_missing'] = imputed_X_val_plus[col].isnull()\n\n# Imputation\nmy_imputer = Imputer()\nimputed_X_train_plus = my_imputer.fit_transform(imputed_X_train_plus)\nimputed_X_val_plus = my_imputer.transform(imputed_X_val_plus)\n\nprint(\"Mean Absolute Error from Imputation while Track What Was Imputed:\")\nprint(score_dataset(imputed_X_train_plus, imputed_X_val_plus, train_y, val_y))",
      "execution_count": 55,
      "outputs": [
        {
          "output_type": "stream",
          "text": "Mean Absolute Error from Imputation while Track What Was Imputed:\n24291.300547945204\n",
          "name": "stdout"
        }
      ]
    },
    {
      "metadata": {
        "_uuid": "148135d0cf133f485a4a6b0d26ab3d8827782a14",
        "_cell_guid": "d5324f41-5600-4c5f-9204-2da289ac4f03"
      },
      "cell_type": "markdown",
      "source": "# One Hot Encoding"
    },
    {
      "metadata": {
        "_uuid": "2a63ad2ecb2f576f8e706a442b260287bb9d2757",
        "_cell_guid": "b4d3c7c2-285d-4f8f-a3f9-baf1a0bcbd1f",
        "trusted": true
      },
      "cell_type": "code",
      "source": "predictors_without_categoricals = train_X.select_dtypes(exclude=['object'])\n# get one hot encoded variables\n# TODO: get all the coloumns in the data and select some categorical coloumns that are important and can be changed into one hot encoded data\none_hot_encoded_training_predictors = pd.get_dummies(train_X)\nprint(predictors_without_categoricals.columns)\nprint(one_hot_encoded_training_predictors.columns)",
      "execution_count": 56,
      "outputs": [
        {
          "output_type": "stream",
          "text": "Index(['LotArea', 'YearBuilt', '1stFlrSF', '2ndFlrSF', 'FullBath',\n       'BedroomAbvGr', 'TotRmsAbvGrd'],\n      dtype='object')\nIndex(['LotArea', 'YearBuilt', '1stFlrSF', '2ndFlrSF', 'FullBath',\n       'BedroomAbvGr', 'TotRmsAbvGrd'],\n      dtype='object')\n",
          "name": "stdout"
        }
      ]
    },
    {
      "metadata": {
        "_uuid": "2189dcbfa85132e5dd7bb0f65039d34122f4a33b",
        "_cell_guid": "0523858d-4aa7-470c-8444-e1e81906d8da",
        "collapsed": true,
        "trusted": true
      },
      "cell_type": "code",
      "source": "def getScore(data,colmnNames):\n    my_imputer = Imputer()\n    X = data[colomnNames]\n    one_hot_encoded_training_predictors = pd.get_dummies(X)\n    train_X, val_X, train_y, val_y = train_test_split(one_hot_encoded_training_predictors, y,random_state = 1)\n    train_X_copy = train_X.copy()\n    val_X_copy = val_X.copy()\n    cols_with_missing = [col for col in one_hot_encoded_training_predictors.columns \n                                     if one_hot_encoded_training_predictors[col].isnull().any()]\n    for col in cols_with_missing:\n        train_X_copy[col + '_was_missing'] = train_X_copy[col].isnull()\n        val_X_copy[col + '_was_missing'] = val_X_copy[col].isnull()\n    imputed_X_train = my_imputer.fit_transform(train_X_copy)\n    imputed_X_val = my_imputer.transform(val_X_copy)\n    return (score_dataset(imputed_X_train, imputed_X_val, train_y, val_y))",
      "execution_count": 57,
      "outputs": []
    },
    {
      "metadata": {
        "_uuid": "25787f80b9e95ed2851662b81e3f25d3b8f6b375",
        "_cell_guid": "9edded43-61a1-45e7-a499-6ccbc693d3f5"
      },
      "cell_type": "markdown",
      "source": "## categorical data added to the model"
    },
    {
      "metadata": {
        "_uuid": "a66b71dbb167ddefbedb5318fa508b989366844b",
        "_cell_guid": "08a9913e-13df-4bb6-96f5-bbc221d1f51b",
        "trusted": true
      },
      "cell_type": "code",
      "source": "main_file_path = '../input/train.csv'\ndata = pd.read_csv(main_file_path)\ncolomnNames = ['LotConfig','LotArea', 'YearBuilt', '1stFlrSF', '2ndFlrSF', 'FullBath', 'BedroomAbvGr', 'TotRmsAbvGrd'];\ngetScore(data,colomnNames)\ncategoricalCol = data.select_dtypes('object').columns\nprint(categoricalCol)\nprint('without category', getScore(data,colomnNames))\nfor cat in categoricalCol:\n    print('score for', cat, getScore(data,colomnNames + [cat]),getScore(data,colomnNames + [cat]),getScore(data,colomnNames + [cat]))",
      "execution_count": 58,
      "outputs": [
        {
          "output_type": "stream",
          "text": "Index(['MSZoning', 'Street', 'Alley', 'LotShape', 'LandContour', 'Utilities',\n       'LotConfig', 'LandSlope', 'Neighborhood', 'Condition1', 'Condition2',\n       'BldgType', 'HouseStyle', 'RoofStyle', 'RoofMatl', 'Exterior1st',\n       'Exterior2nd', 'MasVnrType', 'ExterQual', 'ExterCond', 'Foundation',\n       'BsmtQual', 'BsmtCond', 'BsmtExposure', 'BsmtFinType1', 'BsmtFinType2',\n       'Heating', 'HeatingQC', 'CentralAir', 'Electrical', 'KitchenQual',\n       'Functional', 'FireplaceQu', 'GarageType', 'GarageFinish', 'GarageQual',\n       'GarageCond', 'PavedDrive', 'PoolQC', 'Fence', 'MiscFeature',\n       'SaleType', 'SaleCondition'],\n      dtype='object')\nwithout category 23677.156255707763\nscore for MSZoning 23061.996712328768 23822.115707762554 23046.83607305936\nscore for Street 23128.652602739723 23256.758995433785 23576.36401826484\nscore for Alley 23835.28739726027 23676.901056751467 22951.037038486626\nscore for LotShape 23940.39899543379 23030.321917808218 24250.650593607304\nscore for LandContour 22568.94885844749 23226.079452054793 23364.57397260274\nscore for Utilities 23065.638538812786 23462.312876712327 23434.734611872143\nscore for LotConfig 23885.2247097195 23674.438356164384 23376.22831050228\nscore for LandSlope 24413.138904109586 23489.414403131115 23322.88100456621\nscore for Neighborhood 24109.069589041097 23115.826940639272 23078.234246575343\nscore for Condition1 23609.774559686888 23392.12731898238 22560.358995433795\nscore for Condition2 22962.964748858445 23494.774990215265 23318.05452054794\nscore for BldgType 23322.685205479447 22324.035251141555 22855.234520547943\nscore for HouseStyle 22208.695459882583 23563.657990867574 23308.909589041097\nscore for RoofStyle 23286.101461187216 23539.25205479452 23646.807305936072\nscore for RoofMatl 23347.992694063923 23864.382348336596 22938.56273972603\nscore for Exterior1st 23118.39296803653 23353.103744292235 22743.24803652968\nscore for Exterior2nd 23113.775485975213 23485.835903457275 23011.621643835613\nscore for MasVnrType 22615.134520547945 23158.994703196346 22507.13890410959\nscore for ExterQual 23412.28 23726.492237442922 23049.32529680365\nscore for ExterCond 24035.58803652968 24171.75205479452 23509.025479452055\nscore for Foundation 23701.983287671235 23469.315890410962 22818.162648401827\nscore for BsmtQual 23692.361643835615 22720.972237442922 22699.397716894975\nscore for BsmtCond 22569.929497716894 22496.17625570776 23555.19885844749\nscore for BsmtExposure 23626.98493150685 22549.646392694063 24021.51132420091\nscore for BsmtFinType1 23300.961369863016 23242.794337899544 22675.410045662098\nscore for BsmtFinType2 22979.213972602738 23592.498812785387 23549.371963470316\nscore for Heating 24012.234155251143 23645.630502283104 23944.349406392696\nscore for HeatingQC 22772.18630136986 24376.83808219178 23742.112602739726\nscore for CentralAir 23612.75698630137 24414.188584474883 23366.1698630137\nscore for Electrical 23131.322191780822 23058.663183300716 23069.110410958907\nscore for KitchenQual 23399.454246575344 23398.895812133065 23157.345296803658\nscore for Functional 22971.431324200912 23525.996894977172 23230.908767123285\nscore for FireplaceQu 23358.08876712329 22407.112602739726 23282.778825831698\nscore for GarageType 22426.47488584475 23307.99589041096 23072.229680365297\nscore for GarageFinish 22737.58584474886 23013.994429223738 23166.05680365297\nscore for GarageQual 23322.356347031964 23866.301187214613 22985.619543378994\nscore for GarageCond 22260.40228310502 23426.67397260274 23394.641017612525\nscore for PavedDrive 23660.878082191783 23897.612602739726 24124.667031963465\nscore for PoolQC 23783.895133724724 22784.274520547944 23913.91369863014\nscore for Fence 22989.487945205477 23220.227488584474 23525.223378995433\nscore for MiscFeature 23078.70684931507 22824.646575342467 22692.51598173516\nscore for SaleType 23514.89707762557 23025.94132420091 23450.3399086758\nscore for SaleCondition 22828.175251141554 23088.75680365297 23636.724474885847\n",
          "name": "stdout"
        }
      ]
    },
    {
      "metadata": {
        "_uuid": "742bf4eebd8f84a68c9215444e026253fd5537d0",
        "_cell_guid": "a54ab1a8-00ab-40bb-a227-3789905abbf6",
        "trusted": true
      },
      "cell_type": "code",
      "source": "colomnNames = ['LotConfig','LotArea', 'YearBuilt', '1stFlrSF', '2ndFlrSF', 'FullBath', 'BedroomAbvGr', 'TotRmsAbvGrd'];\nprint('without category', getScore(data,colomnNames))\nprint('with category', getScore(data,colomnNames + ['MSZoning']))\n",
      "execution_count": 59,
      "outputs": [
        {
          "output_type": "stream",
          "text": "without category 22589.864292237442\nwith category 22749.60703196347\n",
          "name": "stdout"
        }
      ]
    },
    {
      "metadata": {
        "_uuid": "68e73e331be564a05f886a055eddc55eea10acac",
        "_cell_guid": "62cb0271-6a46-4dd6-8376-c34623c2f08a"
      },
      "cell_type": "markdown",
      "source": "## XGBoost model"
    },
    {
      "metadata": {
        "_uuid": "f1ddfed4d5101050b6a3f51eb92ba2022a2edeb0",
        "_cell_guid": "669db856-4935-417b-a550-60d85ce13911",
        "trusted": true
      },
      "cell_type": "code",
      "source": "import pandas as pd\nfrom sklearn.model_selection import train_test_split\nfrom sklearn.preprocessing import Imputer\n\ndata = pd.read_csv('../input/train.csv')\ndata.dropna(axis=0, subset=['SalePrice'], inplace=True)\ny = data.SalePrice\nX = data.drop(['SalePrice'], axis=1).select_dtypes(exclude=['object'])\ntrain_X, test_X, train_y, test_y = train_test_split(X.as_matrix(), y.as_matrix(), test_size=0.25)\n\nmy_imputer = Imputer()\ntrain_X = my_imputer.fit_transform(train_X)\ntest_X = my_imputer.transform(test_X)\n\nfrom xgboost import XGBRegressor\n\nmy_model =XGBRegressor(n_estimators=1000, learning_rate=0.05)\n# Add silent=True to avoid printing out updates with each cycle\nmy_model.fit(train_X, train_y, early_stopping_rounds=5, \n             eval_set=[(test_X, test_y)], verbose=False)\n\n# make predictions\npredictions = my_model.predict(test_X)\n\nfrom sklearn.metrics import mean_absolute_error\nprint(\"Mean Absolute Error : \" + str(mean_absolute_error(predictions, test_y)))",
      "execution_count": 60,
      "outputs": [
        {
          "output_type": "stream",
          "text": "Mean Absolute Error : 16077.965753424658\n",
          "name": "stdout"
        }
      ]
    },
    {
      "metadata": {
        "_uuid": "3ed055ce695f75e254237cf82e6158dbaddb2f2c",
        "_cell_guid": "1d376e3f-6495-491d-98db-5ce14b8bf2c8",
        "trusted": true
      },
      "cell_type": "code",
      "source": "print(X.columns)",
      "execution_count": 61,
      "outputs": [
        {
          "output_type": "stream",
          "text": "Index(['Id', 'MSSubClass', 'LotFrontage', 'LotArea', 'OverallQual',\n       'OverallCond', 'YearBuilt', 'YearRemodAdd', 'MasVnrArea', 'BsmtFinSF1',\n       'BsmtFinSF2', 'BsmtUnfSF', 'TotalBsmtSF', '1stFlrSF', '2ndFlrSF',\n       'LowQualFinSF', 'GrLivArea', 'BsmtFullBath', 'BsmtHalfBath', 'FullBath',\n       'HalfBath', 'BedroomAbvGr', 'KitchenAbvGr', 'TotRmsAbvGrd',\n       'Fireplaces', 'GarageYrBlt', 'GarageCars', 'GarageArea', 'WoodDeckSF',\n       'OpenPorchSF', 'EnclosedPorch', '3SsnPorch', 'ScreenPorch', 'PoolArea',\n       'MiscVal', 'MoSold', 'YrSold'],\n      dtype='object')\n",
          "name": "stdout"
        }
      ]
    },
    {
      "metadata": {
        "_uuid": "1bdb8bb3e7293299a48ffaf77b6ce3a759d9b4fd",
        "_cell_guid": "647b7d68-c0b2-484b-b1d4-01206c34db37"
      },
      "cell_type": "markdown",
      "source": "plot_partial_dependence. The feature_names is an array, where the first column is compared with all the other colomns. Here we have selected 3 features so the first feature is compared with the other two and we can see 2 graphs"
    },
    {
      "metadata": {
        "_uuid": "e2c17657fa03c7bedb9a105958e660902a0c8b27",
        "_cell_guid": "fb475548-11a0-45c2-996c-1548a03fdef1",
        "trusted": true
      },
      "cell_type": "code",
      "source": "from sklearn.ensemble.partial_dependence import partial_dependence, plot_partial_dependence\nfrom sklearn.ensemble.gradient_boosting import GradientBoostingRegressor\nmy_model = GradientBoostingRegressor()\n# fit the model as usual\nmy_imputer = Imputer()\nX = my_imputer.fit_transform(X)\nmy_model.fit(X, y)\n\n# Here we make the plot\nmy_plots = plot_partial_dependence(my_model,       \n                                   features=[1, 2], # column numbers of plots we want to show\n                                   X=X,            # raw predictors data.\n                                   feature_names=['MSSubClass', 'LotFrontage', 'LotArea'], # labels on graphs\n                                   grid_resolution=10) # number of values to plot on x axis",
      "execution_count": 62,
      "outputs": [
        {
          "output_type": "display_data",
          "data": {
            "text/plain": "<matplotlib.figure.Figure at 0x7f1b94b2b748>",
            "image/png": "[encoded data removed]"
          },
          "metadata": {}
        }
      ]
    },
    {
      "metadata": {
        "_uuid": "3310b24176c9798f3c26fa8d783e60127e049695",
        "_cell_guid": "12bfdc9b-015b-4d9b-90eb-0b2ec56b92d4",
        "collapsed": true
      },
      "cell_type": "markdown",
      "source": "# Pipeline"
    },
    {
      "metadata": {
        "_uuid": "c8dfc5992d8ebea2f112dad9cdfaaeaf25abcb01",
        "_cell_guid": "3b1ed0ef-ff4d-4412-b0b9-eabd1dee3f4b",
        "trusted": true,
        "collapsed": true
      },
      "cell_type": "code",
      "source": "from sklearn.ensemble import RandomForestRegressor\nfrom sklearn.pipeline import make_pipeline\nfrom sklearn.preprocessing import Imputer\n\ndef getPipelineScore(data, colomnNames):\n    my_imputer = Imputer()\n    X = data[colomnNames]\n    one_hot_encoded_training_predictors = pd.get_dummies(X)\n    train_X, val_X, train_y, val_y = train_test_split(one_hot_encoded_training_predictors, y,random_state = 1)\n    train_X_copy = train_X.copy()\n    val_X_copy = val_X.copy()\n    cols_with_missing = [col for col in one_hot_encoded_training_predictors.columns \n                                     if one_hot_encoded_training_predictors[col].isnull().any()]\n    for col in cols_with_missing:\n        train_X_copy[col + '_was_missing'] = train_X_copy[col].isnull()\n        val_X_copy[col + '_was_missing'] = val_X_copy[col].isnull()\n        \n    my_pipeline = make_pipeline(Imputer(), RandomForestRegressor())\n    my_pipeline.fit(train_X_copy, train_y)\n    predictions = my_pipeline.predict(val_X_copy)\n    return mean_absolute_error(predictions, val_y)",
      "execution_count": 63,
      "outputs": []
    },
    {
      "metadata": {
        "_uuid": "0ba052b54fbb1e44354f3e0675eb74c42f3b5d21",
        "_cell_guid": "70d1c061-5fcc-4f13-942b-47335c6266c6",
        "trusted": true
      },
      "cell_type": "code",
      "source": "colomnNames = ['LotConfig','LotArea', 'YearBuilt', '1stFlrSF', '2ndFlrSF', 'FullBath', 'BedroomAbvGr', 'TotRmsAbvGrd'];\nprint('without category', getPipelineScore(data,colomnNames))\nprint('with category', getPipelineScore(data,colomnNames + ['MSZoning']))",
      "execution_count": 64,
      "outputs": [
        {
          "output_type": "stream",
          "text": "without category 24000.616712328767\nwith category 23798.250776255703\n",
          "name": "stdout"
        }
      ]
    },
    {
      "metadata": {
        "_uuid": "f1f82210e610f6ef8358d9f4add1edbc0c002085"
      },
      "cell_type": "markdown",
      "source": "## Cross Validation"
    },
    {
      "metadata": {
        "trusted": true,
        "_uuid": "74839b79baa8311d07f9820bfb2a8f686fc40f1f"
      },
      "cell_type": "code",
      "source": "from sklearn.model_selection import cross_val_score\nimport pandas as pd\ndata = pd.read_csv('../input/train.csv')\n\ncolomnNames = ['LotConfig','LotArea', 'YearBuilt', '1stFlrSF', '2ndFlrSF', 'FullBath', 'BedroomAbvGr', 'TotRmsAbvGrd'];\nX = data[colomnNames]\none_hot_encoded_training_predictors = pd.get_dummies(X)\ny = data.SalePrice\nmy_pipeline = make_pipeline(Imputer(), RandomForestRegressor())\nscores = cross_val_score(my_pipeline, one_hot_encoded_training_predictors, y, scoring='neg_mean_absolute_error')\nprint('Mean Absolute Error %2f' %(-1 * scores.mean()))",
      "execution_count": 65,
      "outputs": [
        {
          "output_type": "stream",
          "text": "Mean Absolute Error 24556.861220\n",
          "name": "stdout"
        }
      ]
    },
    {
      "metadata": {
        "_uuid": "1e2c56f5481f7d26ca51b4675919e21c6fb79723"
      },
      "cell_type": "markdown",
      "source": "## Leakage \nLeakage occures when we change the data after the model is fit. Or if we apply some pre processing to the data.\n\nAnother type of leakage is when we use data parameters that highly correlate with the target parameter.\n\nOne way to spot leakage is to check the accuracy of the model. If the model is providing high accuracy constantly than there is some issue and the parameters of the model should be checked"
    }
  ],
  "metadata": {
    "kernelspec": {
      "display_name": "Python 3",
      "language": "python",
      "name": "python3"
    },
    "language_info": {
      "name": "python",
      "version": "3.6.5",
      "mimetype": "text/x-python",
      "codemirror_mode": {
        "name": "ipython",
        "version": 3
      },
      "pygments_lexer": "ipython3",
      "nbconvert_exporter": "python",
      "file_extension": ".py"
    }
  },
  "nbformat": 4,
  "nbformat_minor": 1
}