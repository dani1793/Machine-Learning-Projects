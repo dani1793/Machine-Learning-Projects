{
  "cells": [
    {
      "metadata": {
        "_cell_guid": "e81ee64d-e474-4662-9036-ce23df615199",
        "_uuid": "b6269c0e8f417f82daf093dda8fa0da6d2c57d86"
      },
      "cell_type": "markdown",
      "source": "# Introduction\n**Tutorials from Kaggle **\n\n"
    },
    {
      "metadata": {
        "_uuid": "339f073be41400a1db250ad0e171ee4a2429389c",
        "_cell_guid": "ad2e315e-f044-4b33-8d28-299cb900cbdf"
      },
      "cell_type": "markdown",
      "source": "# Basic Panda Commands"
    },
    {
      "metadata": {
        "_cell_guid": "86b26423-563a-4fa1-a595-89e25ff93089",
        "_uuid": "1c728098629e1301643443b1341556a15c089b2b",
        "trusted": true
      },
      "cell_type": "code",
      "source": "import pandas as pd\n\nmain_file_path = '../input/train.csv'\ndata = pd.read_csv(main_file_path)\nprint('hello world')",
      "execution_count": 1,
      "outputs": [
        {
          "output_type": "stream",
          "text": "hello world\n",
          "name": "stdout"
        }
      ]
    },
    {
      "metadata": {
        "_uuid": "c713f87860d7a1bc72363841c0a09f913ba79eb2",
        "_cell_guid": "14f34e28-9060-4fa3-b283-14f86b2144c3",
        "trusted": true
      },
      "cell_type": "code",
      "source": "print(data.describe())",
      "execution_count": 2,
      "outputs": [
        {
          "output_type": "stream",
          "text": "                Id   MSSubClass  LotFrontage        LotArea  OverallQual  \\\ncount  1460.000000  1460.000000  1201.000000    1460.000000  1460.000000   \nmean    730.500000    56.897260    70.049958   10516.828082     6.099315   \nstd     421.610009    42.300571    24.284752    9981.264932     1.382997   \nmin       1.000000    20.000000    21.000000    1300.000000     1.000000   \n25%     365.750000    20.000000    59.000000    7553.500000     5.000000   \n50%     730.500000    50.000000    69.000000    9478.500000     6.000000   \n75%    1095.250000    70.000000    80.000000   11601.500000     7.000000   \nmax    1460.000000   190.000000   313.000000  215245.000000    10.000000   \n\n       OverallCond    YearBuilt  YearRemodAdd   MasVnrArea   BsmtFinSF1  \\\ncount  1460.000000  1460.000000   1460.000000  1452.000000  1460.000000   \nmean      5.575342  1971.267808   1984.865753   103.685262   443.639726   \nstd       1.112799    30.202904     20.645407   181.066207   456.098091   \nmin       1.000000  1872.000000   1950.000000     0.000000     0.000000   \n25%       5.000000  1954.000000   1967.000000     0.000000     0.000000   \n50%       5.000000  1973.000000   1994.000000     0.000000   383.500000   \n75%       6.000000  2000.000000   2004.000000   166.000000   712.250000   \nmax       9.000000  2010.000000   2010.000000  1600.000000  5644.000000   \n\n           ...         WoodDeckSF  OpenPorchSF  EnclosedPorch    3SsnPorch  \\\ncount      ...        1460.000000  1460.000000    1460.000000  1460.000000   \nmean       ...          94.244521    46.660274      21.954110     3.409589   \nstd        ...         125.338794    66.256028      61.119149    29.317331   \nmin        ...           0.000000     0.000000       0.000000     0.000000   \n25%        ...           0.000000     0.000000       0.000000     0.000000   \n50%        ...           0.000000    25.000000       0.000000     0.000000   \n75%        ...         168.000000    68.000000       0.000000     0.000000   \nmax        ...         857.000000   547.000000     552.000000   508.000000   \n\n       ScreenPorch     PoolArea       MiscVal       MoSold       YrSold  \\\ncount  1460.000000  1460.000000   1460.000000  1460.000000  1460.000000   \nmean     15.060959     2.758904     43.489041     6.321918  2007.815753   \nstd      55.757415    40.177307    496.123024     2.703626     1.328095   \nmin       0.000000     0.000000      0.000000     1.000000  2006.000000   \n25%       0.000000     0.000000      0.000000     5.000000  2007.000000   \n50%       0.000000     0.000000      0.000000     6.000000  2008.000000   \n75%       0.000000     0.000000      0.000000     8.000000  2009.000000   \nmax     480.000000   738.000000  15500.000000    12.000000  2010.000000   \n\n           SalePrice  \ncount    1460.000000  \nmean   180921.195890  \nstd     79442.502883  \nmin     34900.000000  \n25%    129975.000000  \n50%    163000.000000  \n75%    214000.000000  \nmax    755000.000000  \n\n[8 rows x 38 columns]\n",
          "name": "stdout"
        }
      ]
    },
    {
      "metadata": {
        "_uuid": "15a7d14e6d09fb02d77fb75918d56de382285c30",
        "_cell_guid": "0ff1b56f-323f-4d83-9275-521050a83e5a",
        "trusted": true
      },
      "cell_type": "code",
      "source": "print(data.columns)",
      "execution_count": 3,
      "outputs": [
        {
          "output_type": "stream",
          "text": "Index(['Id', 'MSSubClass', 'MSZoning', 'LotFrontage', 'LotArea', 'Street',\n       'Alley', 'LotShape', 'LandContour', 'Utilities', 'LotConfig',\n       'LandSlope', 'Neighborhood', 'Condition1', 'Condition2', 'BldgType',\n       'HouseStyle', 'OverallQual', 'OverallCond', 'YearBuilt', 'YearRemodAdd',\n       'RoofStyle', 'RoofMatl', 'Exterior1st', 'Exterior2nd', 'MasVnrType',\n       'MasVnrArea', 'ExterQual', 'ExterCond', 'Foundation', 'BsmtQual',\n       'BsmtCond', 'BsmtExposure', 'BsmtFinType1', 'BsmtFinSF1',\n       'BsmtFinType2', 'BsmtFinSF2', 'BsmtUnfSF', 'TotalBsmtSF', 'Heating',\n       'HeatingQC', 'CentralAir', 'Electrical', '1stFlrSF', '2ndFlrSF',\n       'LowQualFinSF', 'GrLivArea', 'BsmtFullBath', 'BsmtHalfBath', 'FullBath',\n       'HalfBath', 'BedroomAbvGr', 'KitchenAbvGr', 'KitchenQual',\n       'TotRmsAbvGrd', 'Functional', 'Fireplaces', 'FireplaceQu', 'GarageType',\n       'GarageYrBlt', 'GarageFinish', 'GarageCars', 'GarageArea', 'GarageQual',\n       'GarageCond', 'PavedDrive', 'WoodDeckSF', 'OpenPorchSF',\n       'EnclosedPorch', '3SsnPorch', 'ScreenPorch', 'PoolArea', 'PoolQC',\n       'Fence', 'MiscFeature', 'MiscVal', 'MoSold', 'YrSold', 'SaleType',\n       'SaleCondition', 'SalePrice'],\n      dtype='object')\n",
          "name": "stdout"
        }
      ]
    },
    {
      "metadata": {
        "_uuid": "d930b20c97707a8e213130418c533ebd11209457",
        "_cell_guid": "d5d76211-4180-44d6-ab05-055845746810",
        "trusted": true
      },
      "cell_type": "code",
      "source": "sale = data.SalePrice\nprint(sale.head())",
      "execution_count": 4,
      "outputs": [
        {
          "output_type": "stream",
          "text": "0    208500\n1    181500\n2    223500\n3    140000\n4    250000\nName: SalePrice, dtype: int64\n",
          "name": "stdout"
        }
      ]
    },
    {
      "metadata": {
        "_uuid": "61d61868faec8e76ca749c033af15bfcdd9a0baf",
        "_cell_guid": "cfc7a45c-65a0-4f60-8078-b8c765b5a7e9",
        "trusted": true
      },
      "cell_type": "code",
      "source": "selectedColomnsNames = ['MiscVal','YrSold'];\nsubDataFrame = data[selectedColomnsNames];\nprint(subDataFrame.describe())",
      "execution_count": 5,
      "outputs": [
        {
          "output_type": "stream",
          "text": "            MiscVal       YrSold\ncount   1460.000000  1460.000000\nmean      43.489041  2007.815753\nstd      496.123024     1.328095\nmin        0.000000  2006.000000\n25%        0.000000  2007.000000\n50%        0.000000  2008.000000\n75%        0.000000  2009.000000\nmax    15500.000000  2010.000000\n",
          "name": "stdout"
        }
      ]
    },
    {
      "metadata": {
        "_uuid": "142f7dd3f0a09f60f22173db118645f2ee26ed11",
        "_cell_guid": "633df8d0-ade8-4b0e-8008-5d7683535d44"
      },
      "cell_type": "markdown",
      "source": "# Initial Model"
    },
    {
      "metadata": {
        "_uuid": "5b315a51f3d44be761fb6394e8933b05cc50060f",
        "_cell_guid": "0fa71b6c-0041-47eb-a18b-757eadd7614e",
        "trusted": true,
        "collapsed": true
      },
      "cell_type": "code",
      "source": "y = data.SalePrice\ncolomnNames = ['LotArea', 'YearBuilt', '1stFlrSF', '2ndFlrSF', 'FullBath', 'BedroomAbvGr', 'TotRmsAbvGrd'];\nX = data[colomnNames]",
      "execution_count": 7,
      "outputs": []
    },
    {
      "metadata": {
        "_uuid": "e90d4694efef9087382d75fb7ce858a05a4477dc",
        "_cell_guid": "1beba68f-ae70-4055-99ae-e945cf8b07a8",
        "trusted": true
      },
      "cell_type": "code",
      "source": "from sklearn.tree import DecisionTreeRegressor\n\n# Define model\nmelbourne_model = DecisionTreeRegressor()\n\n# Fit model\nmelbourne_model.fit(X, y)",
      "execution_count": 8,
      "outputs": [
        {
          "output_type": "execute_result",
          "execution_count": 8,
          "data": {
            "text/plain": "DecisionTreeRegressor(criterion='mse', max_depth=None, max_features=None,\n           max_leaf_nodes=None, min_impurity_decrease=0.0,\n           min_impurity_split=None, min_samples_leaf=1,\n           min_samples_split=2, min_weight_fraction_leaf=0.0,\n           presort=False, random_state=None, splitter='best')"
          },
          "metadata": {}
        }
      ]
    },
    {
      "metadata": {
        "_uuid": "06c186d230751291a46884a2a0eae4c781f8940f",
        "_cell_guid": "106397ea-1f83-4663-a94c-899adb5a16b5",
        "trusted": true
      },
      "cell_type": "code",
      "source": "print(\"Making predictions for the following 5 houses:\")\nprint(X.head())\nprint(\"The predictions are\")\nprint(melbourne_model.predict(X.head()))",
      "execution_count": 9,
      "outputs": [
        {
          "output_type": "stream",
          "text": "Making predictions for the following 5 houses:\n   LotArea  YearBuilt  1stFlrSF  2ndFlrSF  FullBath  BedroomAbvGr  \\\n0     8450       2003       856       854         2             3   \n1     9600       1976      1262         0         2             3   \n2    11250       2001       920       866         2             3   \n3     9550       1915       961       756         1             3   \n4    14260       2000      1145      1053         2             4   \n\n   TotRmsAbvGrd  \n0             8  \n1             6  \n2             6  \n3             7  \n4             9  \nThe predictions are\n[208500. 181500. 223500. 140000. 250000.]\n",
          "name": "stdout"
        }
      ]
    },
    {
      "metadata": {
        "_uuid": "400477da4257437a29e3557f4437976e5cccd97a",
        "_cell_guid": "6c7fc8d9-0dc2-415d-be18-960bb63df41b"
      },
      "cell_type": "markdown",
      "source": "# Simple Validation Split"
    },
    {
      "metadata": {
        "_uuid": "b1f5fdaca7a1dc6419af307820ca9e71326b05be",
        "_cell_guid": "177a8244-297e-4b1a-9af8-31cfa7102096",
        "trusted": true
      },
      "cell_type": "code",
      "source": "from sklearn.model_selection import train_test_split\nfrom sklearn.metrics import mean_absolute_error\n# split data into training and validation data, for both predictors and target\n# The split is based on a random number generator. Supplying a numeric value to\n# the random_state argument guarantees we get the same split every time we\n# run this script.\ntrain_X, val_X, train_y, val_y = train_test_split(X, y,random_state = 0)\n# Define model\nmelbourne_model = DecisionTreeRegressor()\n# Fit model\nmelbourne_model.fit(train_X, train_y)\n\n# get predicted prices on validation data\nval_predictions = melbourne_model.predict(val_X)\nprint(mean_absolute_error(val_y, val_predictions))",
      "execution_count": 10,
      "outputs": [
        {
          "output_type": "stream",
          "text": "32473.43287671233\n",
          "name": "stdout"
        }
      ]
    },
    {
      "metadata": {
        "collapsed": true,
        "_uuid": "54c71d17577476d91b234d51e0134c3364d90152",
        "_cell_guid": "0b53fa09-f30f-4cfa-8391-c153a5becabf",
        "trusted": true
      },
      "cell_type": "code",
      "source": "def get_mae(max_leaf_nodes, predictors_train, predictors_val, targ_train, targ_val):\n    model = DecisionTreeRegressor(max_leaf_nodes=max_leaf_nodes, random_state=0)\n    model.fit(predictors_train, targ_train)\n    preds_val = model.predict(predictors_val)\n    mae = mean_absolute_error(targ_val, preds_val)\n    return(mae)",
      "execution_count": 11,
      "outputs": []
    },
    {
      "metadata": {
        "_uuid": "7487954ec818d05806a5c3b51798e2c7a97d3c7e",
        "scrolled": true,
        "_cell_guid": "dfce1ac3-eeba-4f30-923b-bb9576b5eb0c",
        "trusted": true
      },
      "cell_type": "code",
      "source": "for max_leaf_nodes in [5, 10, 20, 50, 75, 80, 90, 100, 250, 500, 1000, 2500, 5000]:\n    my_mae = get_mae(max_leaf_nodes, train_X, val_X, train_y, val_y)\n    print(\"Max leaf nodes: %d  \\t\\t Mean Absolute Error:  %d\" %(max_leaf_nodes, my_mae))",
      "execution_count": 12,
      "outputs": [
        {
          "output_type": "stream",
          "text": "Max leaf nodes: 5  \t\t Mean Absolute Error:  35190\nMax leaf nodes: 10  \t\t Mean Absolute Error:  30616\nMax leaf nodes: 20  \t\t Mean Absolute Error:  29206\nMax leaf nodes: 50  \t\t Mean Absolute Error:  27825\nMax leaf nodes: 75  \t\t Mean Absolute Error:  27455\nMax leaf nodes: 80  \t\t Mean Absolute Error:  27280\nMax leaf nodes: 90  \t\t Mean Absolute Error:  28284\nMax leaf nodes: 100  \t\t Mean Absolute Error:  28653\nMax leaf nodes: 250  \t\t Mean Absolute Error:  31738\nMax leaf nodes: 500  \t\t Mean Absolute Error:  32662\nMax leaf nodes: 1000  \t\t Mean Absolute Error:  33385\nMax leaf nodes: 2500  \t\t Mean Absolute Error:  33382\nMax leaf nodes: 5000  \t\t Mean Absolute Error:  33382\n",
          "name": "stdout"
        }
      ]
    },
    {
      "metadata": {
        "_uuid": "ee8d468308de3845462de89e4891dd6f558d8910",
        "_cell_guid": "1f508475-1926-410e-b08e-9f5a28b77b0f"
      },
      "cell_type": "markdown",
      "source": "## Optimal size of leaf node is 80"
    },
    {
      "metadata": {
        "_uuid": "f87825c54bb3a0d4929a5abd12c3e76167eaf0ca",
        "_cell_guid": "8a5ffc0f-37bc-4e94-a29f-4cd2f75dc8d5"
      },
      "cell_type": "markdown",
      "source": "# Random Forest"
    },
    {
      "metadata": {
        "_uuid": "a898a069c5dc2c398006db15a2ad26ebffb18eed",
        "_cell_guid": "56352bf3-777a-4377-b210-7e65fd5f853d",
        "trusted": true
      },
      "cell_type": "code",
      "source": "from sklearn.ensemble import RandomForestRegressor\nfrom sklearn.metrics import mean_absolute_error\n\nforest_model = RandomForestRegressor()\nforest_model.fit(train_X, train_y)\nmelb_preds = forest_model.predict(val_X)\nprint(mean_absolute_error(val_y, melb_preds))",
      "execution_count": 13,
      "outputs": [
        {
          "output_type": "stream",
          "text": "22705.552557077626\n",
          "name": "stdout"
        }
      ]
    },
    {
      "metadata": {
        "_uuid": "67c24c27b858ac94519eba143d5eb6960683199f",
        "_cell_guid": "da6c32bd-bd10-4ab0-a06b-76a1cee6941f"
      },
      "cell_type": "markdown",
      "source": "# Test Data"
    },
    {
      "metadata": {
        "_uuid": "3fc7ebdf88d257afc030d07c77755d75be95fe62",
        "_cell_guid": "0d9a8856-7e38-4f23-8ba4-cad1fec8b285",
        "trusted": true,
        "collapsed": true
      },
      "cell_type": "code",
      "source": "# Read the test data\ntest = pd.read_csv('../input/test.csv')\n# Treat the test data in the same way as training data. In this case, pull same columns.\ntest_X = test[colomnNames]\n# Use the model to make predictions\npredicted_prices = forest_model.predict(test_X)\n# We will look at the predicted prices to ensure we have something sensible.\n#print(predicted_prices)",
      "execution_count": 14,
      "outputs": []
    },
    {
      "metadata": {
        "collapsed": true,
        "_uuid": "c06d4cfbd016b709a72c6fcfda83a4cfb6ec7141",
        "_cell_guid": "acd50424-bbe5-4ab3-9d14-19006b1796cc",
        "trusted": false
      },
      "cell_type": "code",
      "source": "my_submission = pd.DataFrame({'Id': test.Id, 'SalePrice': predicted_prices})\n# you could use any filename. We choose submission here\nmy_submission.to_csv('submission.csv', index=False)",
      "execution_count": null,
      "outputs": []
    }
  ],
  "metadata": {
    "language_info": {
      "name": "python",
      "version": "3.6.5",
      "mimetype": "text/x-python",
      "codemirror_mode": {
        "name": "ipython",
        "version": 3
      },
      "pygments_lexer": "ipython3",
      "nbconvert_exporter": "python",
      "file_extension": ".py"
    },
    "kernelspec": {
      "display_name": "Python 3",
      "language": "python",
      "name": "python3"
    }
  },
  "nbformat": 4,
  "nbformat_minor": 1
}