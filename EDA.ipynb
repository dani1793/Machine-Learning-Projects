{
 "cells": [
  {
   "cell_type": "markdown",
   "metadata": {},
   "source": [
    "# Exploratory Data analysis"
   ]
  },
  {
   "cell_type": "markdown",
   "metadata": {},
   "source": [
    "Generally EDA is the exploration of data and relationships among data through both numerical and graphical methods. EDA is the first step in the larger process of finding features in data or ask further questions about data to have clear insight of data and the purpose of the analysis. EDA also helps in building up predictive models. EDA also helps in confirming our assumptions and insights about data sets.\n",
    "\n",
    "One of the major goals of EDA is to validate and assess the assumptions in which future inferences would be based"
   ]
  },
  {
   "cell_type": "markdown",
   "metadata": {},
   "source": [
    "Key Points when looking and analysing data\n",
    "- Always be curios and specktical when looking at data\n",
    "- Open to detecting oddities in the data, through produced visualizations and summaries "
   ]
  },
  {
   "cell_type": "markdown",
   "metadata": {},
   "source": [
    "## Data Munging"
   ]
  },
  {
   "cell_type": "markdown",
   "metadata": {},
   "source": [
    "In real world scenerio we dont get clean up data in csv format. We need to extract data from different sources and create a merged dataset that we can use for EDA. Data Munging is vital preprocessing step before EDA"
   ]
  },
  {
   "cell_type": "markdown",
   "metadata": {},
   "source": [
    "## Dealing With outliers"
   ]
  },
  {
   "cell_type": "markdown",
   "metadata": {},
   "source": [
    "Outliers could be of two types. They can either represent a correct datapoint as anomaly in dataset, or they could represent wrong datapoint. The interpretation of outlier depends on the data that we are dealing with."
   ]
  },
  {
   "cell_type": "markdown",
   "metadata": {},
   "source": [
    "## Long Tail Distribution"
   ]
  },
  {
   "cell_type": "markdown",
   "metadata": {},
   "source": [
    "In the long tail graphs the data is over dispersed. To understand the long tail data better we could transform these values into logarithmic scale or square root scale. \n",
    "Long tail gives normal distribution in these scales and make it easy to apply machine learning technique like linear regression"
   ]
  },
  {
   "cell_type": "markdown",
   "metadata": {},
   "source": [
    "In the long tail graphs the data is over dispersed. To understand the long tail data better we could transform these values into logarithmic scale or square root scale. \n",
    "Long tail gives normal distribution in these scales and make it easy to apply machine learning technique like linear regression"
   ]
  },
  {
   "cell_type": "markdown",
   "metadata": {},
   "source": [
    "## Correlation"
   ]
  },
  {
   "cell_type": "markdown",
   "metadata": {},
   "source": [
    "Correlation is a single numberical value which helps in understanding the meaningfullness of relationship of two variables. A good rule of thumb for correlation is that a correlation greater than 0.3 or less than -0.3 is meaningful but small, around 0.5 is moderate and 0.7 is pretty large.\n",
    "\n",
    "A point to remember is that correlation statistics are great way to guess the strengh about relationship between two variables, however they cannot substitute for the scatter plot or line plots\n",
    "\n",
    "We usually use the variables in linear regression. We need to decide which variables to use. We cannot use highly correlated variables as we dont know which is driving variable.\n",
    "\n",
    "We need to use variables with moderate correlation for feature selection"
   ]
  },
  {
   "cell_type": "code",
   "execution_count": null,
   "metadata": {},
   "outputs": [],
   "source": []
  }
 ],
 "metadata": {
  "kernelspec": {
   "display_name": "Python 3",
   "language": "python",
   "name": "python3"
  },
  "language_info": {
   "codemirror_mode": {
    "name": "ipython",
    "version": 3
   },
   "file_extension": ".py",
   "mimetype": "text/x-python",
   "name": "python",
   "nbconvert_exporter": "python",
   "pygments_lexer": "ipython3",
   "version": "3.6.3"
  }
 },
 "nbformat": 4,
 "nbformat_minor": 2
}
