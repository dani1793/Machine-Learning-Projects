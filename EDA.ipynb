{
 "cells": [
  {
   "cell_type": "markdown",
   "metadata": {},
   "source": [
    "# Exploratory Data analysis"
   ]
  },
  {
   "cell_type": "markdown",
   "metadata": {},
   "source": [
    "Generally EDA is the exploration of data and relationships among data through both numerical and graphical methods. EDA is the first step in the larger process of finding features in data or ask further questions about data to have clear insight of data and the purpose of the analysis. EDA also helps in building up predictive models. EDA also helps in confirming our assumptions and insights about data sets.\n",
    "\n",
    "One of the major goals of EDA is to validate and assess the assumptions in which future inferences would be based"
   ]
  },
  {
   "cell_type": "markdown",
   "metadata": {},
   "source": [
    "Key Points when looking and analysing data\n",
    "- Always be curios and specktical when looking at data\n",
    "- Open to detecting oddities in the data, through produced visualizations and summaries "
   ]
  },
  {
   "cell_type": "markdown",
   "metadata": {},
   "source": [
    "## Data Munging"
   ]
  },
  {
   "cell_type": "markdown",
   "metadata": {},
   "source": [
    "In real world scenerio we dont get clean up data in csv format. We need to extract data from different sources and create a merged dataset that we can use for EDA. Data Munging is vital preprocessing step before EDA"
   ]
  }
 ],
 "metadata": {
  "kernelspec": {
   "display_name": "Python 3",
   "language": "python",
   "name": "python3"
  },
  "language_info": {
   "codemirror_mode": {
    "name": "ipython",
    "version": 3
   },
   "file_extension": ".py",
   "mimetype": "text/x-python",
   "name": "python",
   "nbconvert_exporter": "python",
   "pygments_lexer": "ipython3",
   "version": "3.6.3"
  }
 },
 "nbformat": 4,
 "nbformat_minor": 2
}
