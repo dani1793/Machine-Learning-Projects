{
 "cells": [
  {
   "cell_type": "markdown",
   "metadata": {},
   "source": [
    "This file should be used to convert the words in sentences into integer tokens that should correspond to words in the selected embedding model. When the tokenized sentences are ready, we should be able to feed them directly into the model and find the result."
   ]
  },
  {
   "cell_type": "code",
   "execution_count": 1,
   "metadata": {},
   "outputs": [],
   "source": [
    "from pprint import pprint  # pretty-printer\n",
    "from nltk.tokenize import TweetTokenizer\n",
    "from nltk.corpus import stopwords\n",
    "import gensim;\n",
    "import os;\n",
    "import nltk.data;\n",
    "import time;\n",
    "import numpy as np;\n",
    "import matplotlib.pyplot as plt;\n",
    "from sklearn.manifold import TSNE;"
   ]
  },
  {
   "cell_type": "code",
   "execution_count": 2,
   "metadata": {},
   "outputs": [],
   "source": [
    "# The method does the following in order\n",
    "# 1- It convert the copra paragraph into array of sentences using punkt tokenizer\n",
    "# 2- It then tokenize each line in paragraph into words and remove the stop words and the special characters\n",
    "def tokenize(line):\n",
    "    specialCharacters = ['@','#',',','.','(',')','*',';'] # array of special characters used for prune out the tokens\n",
    "    sent_detector = nltk.data.load('tokenizers/punkt/english.pickle')\n",
    "    tknzr = TweetTokenizer()\n",
    "    tokenized = sent_detector.tokenize(line.strip());\n",
    "    wordList = [];\n",
    "    for line in tokenized:\n",
    "        wordList.extend(tknzr.tokenize(line));\n",
    "    tokenized = [word for word in wordList if word not in\n",
    "    stopwords.words('english') and word not in specialCharacters]\n",
    "    return tokenized    "
   ]
  },
  {
   "cell_type": "code",
   "execution_count": 3,
   "metadata": {},
   "outputs": [],
   "source": [
    "def tokens2Index(tokenArr, model):\n",
    "    index = np.array([]);\n",
    "    for token in tokenArr:\n",
    "        try:\n",
    "            index =  np.append(index,model.wv.index2word.index(token));\n",
    "        except ValueError:\n",
    "            index = np.append(index, 0);\n",
    "    return index;"
   ]
  },
  {
   "cell_type": "code",
   "execution_count": 4,
   "metadata": {},
   "outputs": [],
   "source": [
    "selectedModel = 'model-sg-1-size-600-window-10'\n",
    "modelLoad = gensim.models.Word2Vec.load('./wordToVec/%s'%(selectedModel))"
   ]
  },
  {
   "cell_type": "code",
   "execution_count": 5,
   "metadata": {},
   "outputs": [],
   "source": [
    "tokenized = [];\n",
    "label = [];"
   ]
  },
  {
   "cell_type": "code",
   "execution_count": 6,
   "metadata": {},
   "outputs": [
    {
     "name": "stdout",
     "output_type": "stream",
     "text": [
      "learning model-neg: 1000 / 12501\r",
      "learning model-neg: 2000 / 12501\r",
      "learning model-neg: 3000 / 12501\r",
      "learning model-neg: 4000 / 12501\r",
      "learning model-neg: 5000 / 12501\r",
      "learning model-neg: 6000 / 12501\r",
      "learning model-neg: 7000 / 12501\r",
      "learning model-neg: 8000 / 12501\r",
      "learning model-neg: 9000 / 12501\r",
      "learning model-neg: 10000 / 12501\r",
      "learning model-neg: 11000 / 12501\r",
      "learning model-neg: 12000 / 12501\r",
      "learning model-pos: 1000 / 12501\r",
      "learning model-pos: 2000 / 12501\r",
      "learning model-pos: 3000 / 12501\r",
      "learning model-pos: 4000 / 12501\r",
      "learning model-pos: 5000 / 12501\r",
      "learning model-pos: 6000 / 12501\r",
      "learning model-pos: 7000 / 12501\r",
      "learning model-pos: 8000 / 12501\r",
      "learning model-pos: 9000 / 12501\r",
      "learning model-pos: 10000 / 12501\r",
      "learning model-pos: 11000 / 12501\r",
      "learning model-pos: 12000 / 12501\r"
     ]
    }
   ],
   "source": [
    "\n",
    "dirName = './train/neg';\n",
    "readFiles = 0\n",
    "allFiles = len([name for name in os.listdir(dirName)])\n",
    "for fname in os.listdir(dirName):\n",
    "    readFiles = readFiles + 1\n",
    "    if readFiles % 1000 == 0:\n",
    "        print('learning model-neg: %d / %d'%(readFiles, allFiles), end=\"\\r\" )\n",
    "    filename, fileExtension = os.path.splitext(os.path.join(dirName,fname))\n",
    "    if fileExtension == '.txt':\n",
    "        for line in open(os.path.join(dirName,fname)):\n",
    "            token = tokenize(line) \n",
    "            tokenized.append(tokens2Index(token, modelLoad));\n",
    "            label.append(0);\n",
    "            \n",
    "dirName = './train/pos';\n",
    "readFiles = 0\n",
    "allFiles = len([name for name in os.listdir(dirName)])\n",
    "for fname in os.listdir(dirName):\n",
    "    readFiles = readFiles + 1\n",
    "    if readFiles % 1000 == 0:\n",
    "        print('learning model-pos: %d / %d'%(readFiles, allFiles), end=\"\\r\" )\n",
    "    filename, fileExtension = os.path.splitext(os.path.join(dirName,fname))\n",
    "    if fileExtension == '.txt':\n",
    "        for line in open(os.path.join(dirName,fname)):\n",
    "            token = tokenize(line) \n",
    "            tokenized.append(tokens2Index(token, modelLoad));\n",
    "            label.append(1);"
   ]
  },
  {
   "cell_type": "code",
   "execution_count": 7,
   "metadata": {},
   "outputs": [],
   "source": [
    "np.save('tokenized', np.array(tokenized))\n",
    "np.save('tokenized-label', np.array(label))"
   ]
  }
 ],
 "metadata": {
  "kernelspec": {
   "display_name": "Python 3",
   "language": "python",
   "name": "python3"
  },
  "language_info": {
   "codemirror_mode": {
    "name": "ipython",
    "version": 3
   },
   "file_extension": ".py",
   "mimetype": "text/x-python",
   "name": "python",
   "nbconvert_exporter": "python",
   "pygments_lexer": "ipython3",
   "version": "3.6.3"
  }
 },
 "nbformat": 4,
 "nbformat_minor": 2
}
