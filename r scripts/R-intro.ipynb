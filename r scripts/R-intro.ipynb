{
 "cells": [
  {
   "cell_type": "markdown",
   "metadata": {},
   "source": [
    "# Some Helpful websites about R"
   ]
  },
  {
   "cell_type": "markdown",
   "metadata": {},
   "source": [
    "- [Stats Method](https://www.statmethods.net/)\n",
    "- [CookBook](http://www.cookbook-r.com/)\n",
    "- [R-blogger](https://www.r-bloggers.com/)\n",
    "- [Stackoverflow](https://stackoverflow.com/tags/r/info)\n",
    "- [Stackoverflow FAQs](https://stackoverflow.com/questions/tagged/r-faq%20)\n",
    "- [R Datatypes](https://www.statmethods.net/input/datatypes.html)"
   ]
  },
  {
   "cell_type": "markdown",
   "metadata": {},
   "source": [
    "## Ordered Factor\n",
    "Any categorical variable in dataset which could be ordred to improve the visualization and understand the data better is known as ordred factor. We could order the range of values to create a bar graph and compare frequencies of different variable ranges. One example of ordered Factor would be *income range*. We would like to show the income range in decending order to compare the adjecent categories."
   ]
  },
  {
   "cell_type": "code",
   "execution_count": null,
   "metadata": {},
   "outputs": [],
   "source": []
  },
  {
   "cell_type": "code",
   "execution_count": null,
   "metadata": {},
   "outputs": [],
   "source": []
  },
  {
   "cell_type": "code",
   "execution_count": null,
   "metadata": {},
   "outputs": [],
   "source": []
  },
  {
   "cell_type": "code",
   "execution_count": null,
   "metadata": {},
   "outputs": [],
   "source": []
  },
  {
   "cell_type": "code",
   "execution_count": null,
   "metadata": {},
   "outputs": [],
   "source": []
  }
 ],
 "metadata": {
  "kernelspec": {
   "display_name": "Python 3",
   "language": "python",
   "name": "python3"
  },
  "language_info": {
   "codemirror_mode": {
    "name": "ipython",
    "version": 3
   },
   "file_extension": ".py",
   "mimetype": "text/x-python",
   "name": "python",
   "nbconvert_exporter": "python",
   "pygments_lexer": "ipython3",
   "version": "3.6.3"
  }
 },
 "nbformat": 4,
 "nbformat_minor": 2
}
